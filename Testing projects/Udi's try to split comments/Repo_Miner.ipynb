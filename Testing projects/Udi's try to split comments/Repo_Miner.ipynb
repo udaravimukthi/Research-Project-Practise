{
  "nbformat": 4,
  "nbformat_minor": 0,
  "metadata": {
    "colab": {
      "name": "Repo_Miner.ipynb",
      "provenance": [],
      "collapsed_sections": []
    },
    "kernelspec": {
      "name": "python3",
      "display_name": "Python 3"
    },
    "language_info": {
      "name": "python"
    }
  },
  "cells": [
    {
      "cell_type": "code",
      "metadata": {
        "id": "JYCDX3iTPApb"
      },
      "source": [
        "import requests  # Import the requests library\n",
        "import gspread  # Google sheet\n",
        "\n",
        "import pandas as pd\n",
        "from google.colab import auth\n",
        "from oauth2client.client import GoogleCredentials"
      ],
      "execution_count": null,
      "outputs": []
    },
    {
      "cell_type": "markdown",
      "metadata": {
        "id": "2WY1ZlMmhaIF"
      },
      "source": [
        "##Total Star count of repositories"
      ]
    },
    {
      "cell_type": "code",
      "metadata": {
        "colab": {
          "base_uri": "https://localhost:8080/"
        },
        "id": "FIidRx3UhnVk",
        "outputId": "de1569f1-7065-4966-9863-b348ff8aaa05"
      },
      "source": [
        "\n",
        "\n",
        "def getRepoStarCount(url):\n",
        "  user = url.split('https://github.com/')[1].split('/')[0]\n",
        "  repoName = url.split('https://github.com/')[1].split('/')[1]\n",
        "  api_url = 'https://api.github.com/repos/' + user + '/' + repoName\n",
        "  \n",
        "  response = requests.get(api_url)  # Make a GET request to the URL\n",
        "  print(response.json())\n",
        "  \n",
        "  # Print status code (and associated text)\n",
        "  # print(f\"Request returned {response.status_code} : '{response.reason}'\")\n",
        "\n",
        "  payload = response.json()  # Parse `response.text` into JSON\n",
        "  starCount = payload['stargazers_count']\n",
        "  return starCount\n",
        "\n",
        "print(getRepoStarCount('https://github.com/e32wong/CloCom/blob/master/MatchGroup.java'))\n"
      ],
      "execution_count": null,
      "outputs": [
        {
          "output_type": "stream",
          "text": [
            "{'id': 26790529, 'node_id': 'MDEwOlJlcG9zaXRvcnkyNjc5MDUyOQ==', 'name': 'CloCom', 'full_name': 'e32wong/CloCom', 'private': False, 'owner': {'login': 'e32wong', 'id': 9814980, 'node_id': 'MDQ6VXNlcjk4MTQ5ODA=', 'avatar_url': 'https://avatars.githubusercontent.com/u/9814980?v=4', 'gravatar_id': '', 'url': 'https://api.github.com/users/e32wong', 'html_url': 'https://github.com/e32wong', 'followers_url': 'https://api.github.com/users/e32wong/followers', 'following_url': 'https://api.github.com/users/e32wong/following{/other_user}', 'gists_url': 'https://api.github.com/users/e32wong/gists{/gist_id}', 'starred_url': 'https://api.github.com/users/e32wong/starred{/owner}{/repo}', 'subscriptions_url': 'https://api.github.com/users/e32wong/subscriptions', 'organizations_url': 'https://api.github.com/users/e32wong/orgs', 'repos_url': 'https://api.github.com/users/e32wong/repos', 'events_url': 'https://api.github.com/users/e32wong/events{/privacy}', 'received_events_url': 'https://api.github.com/users/e32wong/received_events', 'type': 'User', 'site_admin': False}, 'html_url': 'https://github.com/e32wong/CloCom', 'description': 'Utilizing code clone detection to generate comments automatically.', 'fork': False, 'url': 'https://api.github.com/repos/e32wong/CloCom', 'forks_url': 'https://api.github.com/repos/e32wong/CloCom/forks', 'keys_url': 'https://api.github.com/repos/e32wong/CloCom/keys{/key_id}', 'collaborators_url': 'https://api.github.com/repos/e32wong/CloCom/collaborators{/collaborator}', 'teams_url': 'https://api.github.com/repos/e32wong/CloCom/teams', 'hooks_url': 'https://api.github.com/repos/e32wong/CloCom/hooks', 'issue_events_url': 'https://api.github.com/repos/e32wong/CloCom/issues/events{/number}', 'events_url': 'https://api.github.com/repos/e32wong/CloCom/events', 'assignees_url': 'https://api.github.com/repos/e32wong/CloCom/assignees{/user}', 'branches_url': 'https://api.github.com/repos/e32wong/CloCom/branches{/branch}', 'tags_url': 'https://api.github.com/repos/e32wong/CloCom/tags', 'blobs_url': 'https://api.github.com/repos/e32wong/CloCom/git/blobs{/sha}', 'git_tags_url': 'https://api.github.com/repos/e32wong/CloCom/git/tags{/sha}', 'git_refs_url': 'https://api.github.com/repos/e32wong/CloCom/git/refs{/sha}', 'trees_url': 'https://api.github.com/repos/e32wong/CloCom/git/trees{/sha}', 'statuses_url': 'https://api.github.com/repos/e32wong/CloCom/statuses/{sha}', 'languages_url': 'https://api.github.com/repos/e32wong/CloCom/languages', 'stargazers_url': 'https://api.github.com/repos/e32wong/CloCom/stargazers', 'contributors_url': 'https://api.github.com/repos/e32wong/CloCom/contributors', 'subscribers_url': 'https://api.github.com/repos/e32wong/CloCom/subscribers', 'subscription_url': 'https://api.github.com/repos/e32wong/CloCom/subscription', 'commits_url': 'https://api.github.com/repos/e32wong/CloCom/commits{/sha}', 'git_commits_url': 'https://api.github.com/repos/e32wong/CloCom/git/commits{/sha}', 'comments_url': 'https://api.github.com/repos/e32wong/CloCom/comments{/number}', 'issue_comment_url': 'https://api.github.com/repos/e32wong/CloCom/issues/comments{/number}', 'contents_url': 'https://api.github.com/repos/e32wong/CloCom/contents/{+path}', 'compare_url': 'https://api.github.com/repos/e32wong/CloCom/compare/{base}...{head}', 'merges_url': 'https://api.github.com/repos/e32wong/CloCom/merges', 'archive_url': 'https://api.github.com/repos/e32wong/CloCom/{archive_format}{/ref}', 'downloads_url': 'https://api.github.com/repos/e32wong/CloCom/downloads', 'issues_url': 'https://api.github.com/repos/e32wong/CloCom/issues{/number}', 'pulls_url': 'https://api.github.com/repos/e32wong/CloCom/pulls{/number}', 'milestones_url': 'https://api.github.com/repos/e32wong/CloCom/milestones{/number}', 'notifications_url': 'https://api.github.com/repos/e32wong/CloCom/notifications{?since,all,participating}', 'labels_url': 'https://api.github.com/repos/e32wong/CloCom/labels{/name}', 'releases_url': 'https://api.github.com/repos/e32wong/CloCom/releases{/id}', 'deployments_url': 'https://api.github.com/repos/e32wong/CloCom/deployments', 'created_at': '2014-11-18T03:39:44Z', 'updated_at': '2019-10-08T22:38:48Z', 'pushed_at': '2019-08-26T20:42:32Z', 'git_url': 'git://github.com/e32wong/CloCom.git', 'ssh_url': 'git@github.com:e32wong/CloCom.git', 'clone_url': 'https://github.com/e32wong/CloCom.git', 'svn_url': 'https://github.com/e32wong/CloCom', 'homepage': '', 'size': 53113, 'stargazers_count': 14, 'watchers_count': 14, 'language': 'Java', 'has_issues': True, 'has_projects': True, 'has_downloads': True, 'has_wiki': True, 'has_pages': False, 'forks_count': 10, 'mirror_url': None, 'archived': False, 'disabled': False, 'open_issues_count': 0, 'license': {'key': 'gpl-2.0', 'name': 'GNU General Public License v2.0', 'spdx_id': 'GPL-2.0', 'url': 'https://api.github.com/licenses/gpl-2.0', 'node_id': 'MDc6TGljZW5zZTg='}, 'forks': 10, 'open_issues': 0, 'watchers': 14, 'default_branch': 'master', 'temp_clone_token': None, 'network_count': 10, 'subscribers_count': 1}\n",
            "14\n"
          ],
          "name": "stdout"
        }
      ]
    },
    {
      "cell_type": "code",
      "metadata": {
        "id": "TZ077y_VtcR9"
      },
      "source": [
        "auth.authenticate_user()\n",
        "gc = gspread.authorize(GoogleCredentials.get_application_default())\n"
      ],
      "execution_count": null,
      "outputs": []
    },
    {
      "cell_type": "code",
      "metadata": {
        "id": "Kxu8Hpjyxe5Q"
      },
      "source": [
        "worksheet1 = gc.open('java_commented_file_urls').sheet1\n",
        "\n",
        "# get_all_values gives a list of rows.\n",
        "rows = worksheet1.get_all_values()\n",
        "no_of_rows = len(rows)\n",
        "\n",
        "url_list = list()\n",
        "for row in rows:\n",
        "  url_list.append(row[0])\n",
        "\n",
        "\n",
        "corresponding_star_count_list = []\n",
        "for url in url_list:\n",
        "  c = getRepoStarCount(url)\n",
        "  corresponding_star_count_list.append(c)\n",
        "\n",
        "final_B_cell = 'B'+ str(no_of_rows)\n",
        "range_of_B = 'B1:' + final_B_cell\n",
        "worksheet1.update_cells(range_of_B, corresponding_star_count_list )\n"
      ],
      "execution_count": null,
      "outputs": []
    },
    {
      "cell_type": "code",
      "metadata": {
        "colab": {
          "base_uri": "https://localhost:8080/"
        },
        "id": "tgvcjqTCA3dK",
        "outputId": "68adf450-afde-41fe-8cd1-dff62849dfe2"
      },
      "source": [
        "print(corresponding_star_count_list)"
      ],
      "execution_count": null,
      "outputs": [
        {
          "output_type": "stream",
          "text": [
            "[130, 14, 14, 14, 14, 14, 14, 14, 14, 14, 14, 14, 14, 14, 14, 14, 14, 14, 14, 14, 14]\n"
          ],
          "name": "stdout"
        }
      ]
    },
    {
      "cell_type": "markdown",
      "metadata": {
        "id": "QliUrPMtP5_a"
      },
      "source": [
        "# Comment Extracting to a list"
      ]
    },
    {
      "cell_type": "code",
      "metadata": {
        "id": "ZxeREFEIQCIx",
        "colab": {
          "base_uri": "https://localhost:8080/",
          "height": 203
        },
        "outputId": "7a4076fa-7dc7-4587-f276-f322951b11bd"
      },
      "source": [
        "# Load the url containing google sheet as a csv\n",
        "sheet_id = '1VdY3FKrtxA46N49qf_T6WJwg8b-jaUXARU7rc3AbLQY'\n",
        "sheet_name = 'Sheet1'\n",
        "url = f\"https://docs.google.com/spreadsheets/d/{sheet_id}/gviz/tq?tqx=out:csv&sheet={sheet_name}\"\n",
        "url_dataset = pd.read_csv(url)\n",
        "url_dataset.head()\n"
      ],
      "execution_count": null,
      "outputs": [
        {
          "output_type": "execute_result",
          "data": {
            "text/html": [
              "<div>\n",
              "<style scoped>\n",
              "    .dataframe tbody tr th:only-of-type {\n",
              "        vertical-align: middle;\n",
              "    }\n",
              "\n",
              "    .dataframe tbody tr th {\n",
              "        vertical-align: top;\n",
              "    }\n",
              "\n",
              "    .dataframe thead th {\n",
              "        text-align: right;\n",
              "    }\n",
              "</style>\n",
              "<table border=\"1\" class=\"dataframe\">\n",
              "  <thead>\n",
              "    <tr style=\"text-align: right;\">\n",
              "      <th></th>\n",
              "      <th>url</th>\n",
              "      <th>star_count</th>\n",
              "    </tr>\n",
              "  </thead>\n",
              "  <tbody>\n",
              "    <tr>\n",
              "      <th>0</th>\n",
              "      <td>https://github.com/apache/commons-validator/bl...</td>\n",
              "      <td>131</td>\n",
              "    </tr>\n",
              "    <tr>\n",
              "      <th>1</th>\n",
              "      <td>https://github.com/e32wong/CloCom/blob/master/...</td>\n",
              "      <td>14</td>\n",
              "    </tr>\n",
              "    <tr>\n",
              "      <th>2</th>\n",
              "      <td>https://github.com/e32wong/CloCom/blob/master/...</td>\n",
              "      <td>14</td>\n",
              "    </tr>\n",
              "    <tr>\n",
              "      <th>3</th>\n",
              "      <td>https://github.com/e32wong/CloCom/blob/master/...</td>\n",
              "      <td>14</td>\n",
              "    </tr>\n",
              "    <tr>\n",
              "      <th>4</th>\n",
              "      <td>https://github.com/e32wong/CloCom/blob/master/...</td>\n",
              "      <td>14</td>\n",
              "    </tr>\n",
              "  </tbody>\n",
              "</table>\n",
              "</div>"
            ],
            "text/plain": [
              "                                                 url  star_count\n",
              "0  https://github.com/apache/commons-validator/bl...         131\n",
              "1  https://github.com/e32wong/CloCom/blob/master/...          14\n",
              "2  https://github.com/e32wong/CloCom/blob/master/...          14\n",
              "3  https://github.com/e32wong/CloCom/blob/master/...          14\n",
              "4  https://github.com/e32wong/CloCom/blob/master/...          14"
            ]
          },
          "metadata": {
            "tags": []
          },
          "execution_count": 46
        }
      ]
    },
    {
      "cell_type": "code",
      "metadata": {
        "id": "DfRfpyqsVAxc",
        "colab": {
          "base_uri": "https://localhost:8080/"
        },
        "outputId": "db3514a9-bd16-493e-ebfc-093932ac4570"
      },
      "source": [
        "!pip install wget\n",
        "!pip install comment_parser\n"
      ],
      "execution_count": null,
      "outputs": [
        {
          "output_type": "stream",
          "text": [
            "Requirement already satisfied: wget in /usr/local/lib/python3.7/dist-packages (3.2)\n",
            "Requirement already satisfied: comment_parser in /usr/local/lib/python3.7/dist-packages (1.2.3)\n",
            "Requirement already satisfied: python-magic==0.4.18 in /usr/local/lib/python3.7/dist-packages (from comment_parser) (0.4.18)\n"
          ],
          "name": "stdout"
        }
      ]
    },
    {
      "cell_type": "code",
      "metadata": {
        "id": "fxO3HPLpfS61",
        "colab": {
          "base_uri": "https://localhost:8080/"
        },
        "outputId": "d15b1858-6954-46d2-97d5-1d2745573e74"
      },
      "source": [
        "from datetime import datetime\n",
        "import wget\n",
        "\n",
        "from comment_parser import comment_parser\n",
        "from comment_parser import parsers\n",
        "# https://github.com/jeanralphaviles/comment_parser\n",
        "\n",
        "from google.colab import drive\n",
        "drive.mount('/content/drive', force_remount=True)\n",
        "\n",
        "import os.path\n",
        "from os import path\n",
        "\n",
        "\n",
        "if path.exists('/content/tempo_code_files') == False:\n",
        "  os.mkdir('/content/tempo_code_files')"
      ],
      "execution_count": null,
      "outputs": [
        {
          "output_type": "stream",
          "text": [
            "Mounted at /content/drive\n"
          ],
          "name": "stdout"
        }
      ]
    },
    {
      "cell_type": "code",
      "metadata": {
        "id": "AgkpAnyRUgMm"
      },
      "source": [
        "#Create github raw URL from a normal page URL\n",
        "def get_raw_url(url):\n",
        "  url = url.replace('github.com', 'raw.githubusercontent.com', 1)\n",
        "  url = url.replace('/blob/', '/',1)\n",
        "  return url;\n",
        "\n",
        "\n",
        "# Download each file as a java file and extract full comment detail list\n",
        "def get_full_comment_list_of_a_file(url):\n",
        "  \"\"\"\n",
        "  Attributes\n",
        "  -----------\n",
        "  url: str\n",
        "     raw-url of a java file and the url must end with '.java' extension.\n",
        "  \n",
        "  Returns\n",
        "  --------\n",
        "  A list containing comment units(comment,line_number,isMultiline)\n",
        "  \"\"\"\n",
        "  #Creating file name\n",
        "  now_time =datetime.now()\n",
        "  millisec = now_time.timestamp() * 10000\n",
        "  millisec = str(millisec).split('.')[0]\n",
        "  partial_name = url.split('/')[-1].split('.')[0]\n",
        "  file_name = partial_name + millisec + '.java'\n",
        "\n",
        "  #Download the file and save in colab location\n",
        "  wget.download(url, f\"tempo_code_files/{file_name}\")\n",
        "\n",
        "  saved_file = f\"/content/tempo_code_files/{file_name}\"\n",
        "  z = comment_parser.extract_comments(saved_file, mime='text/x-java-source')\n",
        "  \n",
        "  return z, saved_file\n",
        "\n"
      ],
      "execution_count": null,
      "outputs": []
    },
    {
      "cell_type": "code",
      "metadata": {
        "colab": {
          "base_uri": "https://localhost:8080/"
        },
        "id": "VQCzkieMqAWr",
        "outputId": "fd39a32a-f21d-4964-90c3-9a41133109e0"
      },
      "source": [
        "repeated_saved_file = []\n",
        "comment_text_list = []\n",
        "comment_starting_line_number_list = []\n",
        "comment_is_multiLine = []\n",
        "\n",
        "# Create a new dataset with above details\n",
        "new_dataset_1 = pd.DataFrame(columns=['saved_file','comment_text','starting_line_number','is_multiLine'])\n",
        "\n",
        "for url in url_dataset['url']:\n",
        "  raw_url = get_raw_url(url)\n",
        "  \n",
        "  comment_list_of_a_file, saved_file = get_full_comment_list_of_a_file(raw_url)\n",
        "  \n",
        "  \n",
        "\n",
        "  for full_comment in comment_list_of_a_file:\n",
        "    repeated_saved_file.append(raw_url)\n",
        "    # print('\\n-------------------------------------\\n')\n",
        "    # print(full_comment)\n",
        "    # print(str(full_comment.line_number).split(',')[-2])\n",
        "    # print(str(full_comment.line_number).split(',')[-1].split(')')[0])\n",
        "\n",
        "    comment_text_list.append(full_comment)\n",
        "    comment_starting_line_number_list.append(int(str(full_comment.line_number).split(',')[-2]))\n",
        "    comment_is_multiLine.append(bool(str(full_comment.line_number).split(',')[-1].split(')')[0]))\n",
        "\n",
        "  \n",
        "  \n",
        "  \n",
        "new_dataset_1['saved_file'] = repeated_saved_file\n",
        "new_dataset_1['comment_text'] = comment_text_list\n",
        "new_dataset_1['starting_line_number'] = comment_starting_line_number_list\n",
        "new_dataset_1['is_multiLine'] = comment_is_multiLine\n",
        "\n",
        "print(len(comment_text_list))\n",
        "  \n",
        "# Save the dataset to a csv file\n",
        "new_dataset_1.to_csv('url_with_extracted_comments.csv', index=False)\n"
      ],
      "execution_count": null,
      "outputs": [
        {
          "output_type": "stream",
          "text": [
            "696\n"
          ],
          "name": "stdout"
        }
      ]
    },
    {
      "cell_type": "code",
      "metadata": {
        "colab": {
          "base_uri": "https://localhost:8080/"
        },
        "id": "cbtE4i2kLMTy",
        "outputId": "64e8f355-7133-4604-c589-9af04e899875"
      },
      "source": [
        "#Save the file to the drive\n",
        "!cp -av /content/url_with_extracted_comments.csv /content/drive/MyDrive/Shared_with_me/Research_Project_Team_Bro_Code/Dataset_preparation"
      ],
      "execution_count": null,
      "outputs": [
        {
          "output_type": "stream",
          "text": [
            "'/content/url_with_extracted_comments.csv' -> '/content/drive/MyDrive/Shared_with_me/Research_Project_Team_Bro_Code/Dataset_preparation/url_with_extracted_comments.csv'\n"
          ],
          "name": "stdout"
        }
      ]
    },
    {
      "cell_type": "code",
      "metadata": {
        "id": "5JdaaeliuN3q"
      },
      "source": [
        ""
      ],
      "execution_count": null,
      "outputs": []
    }
  ]
}